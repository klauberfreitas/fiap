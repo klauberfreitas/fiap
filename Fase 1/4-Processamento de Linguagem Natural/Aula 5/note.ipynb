{
 "cells": [
  {
   "cell_type": "code",
   "execution_count": 4,
   "metadata": {},
   "outputs": [],
   "source": [
    "import pandas as pd\n",
    "from sklearn.model_selection import train_test_split\n",
    "# artigo_treino = pd.read_csv(\"../../../global-assets/\")\n",
    "# artigo_teste = pd.read_csv(\"/content/drive/MyDrive/Colab Notebooks/Word2Vec/teste.csv\")\n",
    "\n",
    "df = pd.read_csv(\"../../../global-assets/datasets/amazon-reviews.csv\")\n",
    "\n",
    "artigo_treino, artigo_teste = train_test_split(df, test_size=0.2, random_state=42)\n"
   ]
  },
  {
   "cell_type": "code",
   "execution_count": 10,
   "metadata": {},
   "outputs": [
    {
     "data": {
      "text/html": [
       "<div>\n",
       "<style scoped>\n",
       "    .dataframe tbody tr th:only-of-type {\n",
       "        vertical-align: middle;\n",
       "    }\n",
       "\n",
       "    .dataframe tbody tr th {\n",
       "        vertical-align: top;\n",
       "    }\n",
       "\n",
       "    .dataframe thead th {\n",
       "        text-align: right;\n",
       "    }\n",
       "</style>\n",
       "<table border=\"1\" class=\"dataframe\">\n",
       "  <thead>\n",
       "    <tr style=\"text-align: right;\">\n",
       "      <th></th>\n",
       "      <th>Id</th>\n",
       "      <th>ProductId</th>\n",
       "      <th>UserId</th>\n",
       "      <th>ProfileName</th>\n",
       "      <th>HelpfulnessNumerator</th>\n",
       "      <th>HelpfulnessDenominator</th>\n",
       "      <th>Score</th>\n",
       "      <th>Time</th>\n",
       "      <th>Summary</th>\n",
       "      <th>Text</th>\n",
       "    </tr>\n",
       "  </thead>\n",
       "  <tbody>\n",
       "    <tr>\n",
       "      <th>251349</th>\n",
       "      <td>251350</td>\n",
       "      <td>B004H3N2LU</td>\n",
       "      <td>A3T60XAQ0WUTB0</td>\n",
       "      <td>astro128 \"astro128\"</td>\n",
       "      <td>3</td>\n",
       "      <td>3</td>\n",
       "      <td>1</td>\n",
       "      <td>1299888000</td>\n",
       "      <td>Terrible Product</td>\n",
       "      <td>Like many others have said, this is INSTANT co...</td>\n",
       "    </tr>\n",
       "    <tr>\n",
       "      <th>523262</th>\n",
       "      <td>523263</td>\n",
       "      <td>B000FPX7SW</td>\n",
       "      <td>AZAZ4IO7QRQE7</td>\n",
       "      <td>K. Meyer \"kat lady\"</td>\n",
       "      <td>6</td>\n",
       "      <td>7</td>\n",
       "      <td>5</td>\n",
       "      <td>1170720000</td>\n",
       "      <td>Delicious!</td>\n",
       "      <td>We are a 2 person household with one diabetic ...</td>\n",
       "    </tr>\n",
       "    <tr>\n",
       "      <th>224543</th>\n",
       "      <td>224544</td>\n",
       "      <td>B000EQT574</td>\n",
       "      <td>AZOYVQTM4DWAX</td>\n",
       "      <td>techrockstar \"the techrockstar\"</td>\n",
       "      <td>0</td>\n",
       "      <td>0</td>\n",
       "      <td>5</td>\n",
       "      <td>1294185600</td>\n",
       "      <td>Delicious!</td>\n",
       "      <td>These might be the best chips I have ever had....</td>\n",
       "    </tr>\n",
       "    <tr>\n",
       "      <th>291632</th>\n",
       "      <td>291633</td>\n",
       "      <td>B004H1WJEI</td>\n",
       "      <td>AFOEOYSYD04J5</td>\n",
       "      <td>Gerald M  Crowley</td>\n",
       "      <td>1</td>\n",
       "      <td>1</td>\n",
       "      <td>4</td>\n",
       "      <td>1322611200</td>\n",
       "      <td>contains Fo Ti</td>\n",
       "      <td>which is why I purchased it for a snack. But t...</td>\n",
       "    </tr>\n",
       "    <tr>\n",
       "      <th>37385</th>\n",
       "      <td>37386</td>\n",
       "      <td>B000LQNC30</td>\n",
       "      <td>A1ZBLEHXI5UZLL</td>\n",
       "      <td>Saleena Shamin</td>\n",
       "      <td>0</td>\n",
       "      <td>0</td>\n",
       "      <td>5</td>\n",
       "      <td>1189555200</td>\n",
       "      <td>Great</td>\n",
       "      <td>Everything was perfect except the fact that th...</td>\n",
       "    </tr>\n",
       "  </tbody>\n",
       "</table>\n",
       "</div>"
      ],
      "text/plain": [
       "            Id   ProductId          UserId                      ProfileName  \\\n",
       "251349  251350  B004H3N2LU  A3T60XAQ0WUTB0              astro128 \"astro128\"   \n",
       "523262  523263  B000FPX7SW   AZAZ4IO7QRQE7              K. Meyer \"kat lady\"   \n",
       "224543  224544  B000EQT574   AZOYVQTM4DWAX  techrockstar \"the techrockstar\"   \n",
       "291632  291633  B004H1WJEI   AFOEOYSYD04J5                Gerald M  Crowley   \n",
       "37385    37386  B000LQNC30  A1ZBLEHXI5UZLL                   Saleena Shamin   \n",
       "\n",
       "        HelpfulnessNumerator  HelpfulnessDenominator  Score        Time  \\\n",
       "251349                     3                       3      1  1299888000   \n",
       "523262                     6                       7      5  1170720000   \n",
       "224543                     0                       0      5  1294185600   \n",
       "291632                     1                       1      4  1322611200   \n",
       "37385                      0                       0      5  1189555200   \n",
       "\n",
       "                 Summary                                               Text  \n",
       "251349  Terrible Product  Like many others have said, this is INSTANT co...  \n",
       "523262        Delicious!  We are a 2 person household with one diabetic ...  \n",
       "224543        Delicious!  These might be the best chips I have ever had....  \n",
       "291632    contains Fo Ti  which is why I purchased it for a snack. But t...  \n",
       "37385              Great  Everything was perfect except the fact that th...  "
      ]
     },
     "execution_count": 10,
     "metadata": {},
     "output_type": "execute_result"
    }
   ],
   "source": [
    "artigo_treino.head()"
   ]
  },
  {
   "cell_type": "code",
   "execution_count": 8,
   "metadata": {},
   "outputs": [
    {
     "data": {
      "text/html": [
       "<div>\n",
       "<style scoped>\n",
       "    .dataframe tbody tr th:only-of-type {\n",
       "        vertical-align: middle;\n",
       "    }\n",
       "\n",
       "    .dataframe tbody tr th {\n",
       "        vertical-align: top;\n",
       "    }\n",
       "\n",
       "    .dataframe thead th {\n",
       "        text-align: right;\n",
       "    }\n",
       "</style>\n",
       "<table border=\"1\" class=\"dataframe\">\n",
       "  <thead>\n",
       "    <tr style=\"text-align: right;\">\n",
       "      <th></th>\n",
       "      <th>Id</th>\n",
       "      <th>ProductId</th>\n",
       "      <th>UserId</th>\n",
       "      <th>ProfileName</th>\n",
       "      <th>HelpfulnessNumerator</th>\n",
       "      <th>HelpfulnessDenominator</th>\n",
       "      <th>Score</th>\n",
       "      <th>Time</th>\n",
       "      <th>Summary</th>\n",
       "      <th>Text</th>\n",
       "    </tr>\n",
       "  </thead>\n",
       "  <tbody>\n",
       "    <tr>\n",
       "      <th>165256</th>\n",
       "      <td>165257</td>\n",
       "      <td>B000EVG8J2</td>\n",
       "      <td>A1L01D2BD3RKVO</td>\n",
       "      <td>B. Miller \"pet person\"</td>\n",
       "      <td>0</td>\n",
       "      <td>0</td>\n",
       "      <td>5</td>\n",
       "      <td>1268179200</td>\n",
       "      <td>Crunchy &amp; Good Gluten-Free Sandwich Cookies!</td>\n",
       "      <td>Having tried a couple of other brands of glute...</td>\n",
       "    </tr>\n",
       "    <tr>\n",
       "      <th>231465</th>\n",
       "      <td>231466</td>\n",
       "      <td>B0000BXJIS</td>\n",
       "      <td>A3U62RE5XZDP0G</td>\n",
       "      <td>Marty</td>\n",
       "      <td>0</td>\n",
       "      <td>0</td>\n",
       "      <td>5</td>\n",
       "      <td>1298937600</td>\n",
       "      <td>great kitty treats</td>\n",
       "      <td>My cat loves these treats. If ever I can't fin...</td>\n",
       "    </tr>\n",
       "    <tr>\n",
       "      <th>427827</th>\n",
       "      <td>427828</td>\n",
       "      <td>B008FHUFAU</td>\n",
       "      <td>AOXC0JQQZGGB6</td>\n",
       "      <td>Kenneth Shevlin</td>\n",
       "      <td>0</td>\n",
       "      <td>2</td>\n",
       "      <td>3</td>\n",
       "      <td>1224028800</td>\n",
       "      <td>COFFEE TASTE</td>\n",
       "      <td>A little less than I expected.  It tends to ha...</td>\n",
       "    </tr>\n",
       "    <tr>\n",
       "      <th>433954</th>\n",
       "      <td>433955</td>\n",
       "      <td>B006BXV14E</td>\n",
       "      <td>A3PWPNZVMNX3PA</td>\n",
       "      <td>rareoopdvds</td>\n",
       "      <td>0</td>\n",
       "      <td>1</td>\n",
       "      <td>2</td>\n",
       "      <td>1335312000</td>\n",
       "      <td>So the Mini-Wheats were too big?</td>\n",
       "      <td>First there was Frosted Mini-Wheats, in origin...</td>\n",
       "    </tr>\n",
       "    <tr>\n",
       "      <th>70260</th>\n",
       "      <td>70261</td>\n",
       "      <td>B007I7Z3Z0</td>\n",
       "      <td>A1XNZ7PCE45KK7</td>\n",
       "      <td>Og8ys1</td>\n",
       "      <td>0</td>\n",
       "      <td>2</td>\n",
       "      <td>5</td>\n",
       "      <td>1334707200</td>\n",
       "      <td>Great Taste . . .</td>\n",
       "      <td>and I want to congratulate the graphic artist ...</td>\n",
       "    </tr>\n",
       "  </tbody>\n",
       "</table>\n",
       "</div>"
      ],
      "text/plain": [
       "            Id   ProductId          UserId             ProfileName  \\\n",
       "165256  165257  B000EVG8J2  A1L01D2BD3RKVO  B. Miller \"pet person\"   \n",
       "231465  231466  B0000BXJIS  A3U62RE5XZDP0G                   Marty   \n",
       "427827  427828  B008FHUFAU   AOXC0JQQZGGB6         Kenneth Shevlin   \n",
       "433954  433955  B006BXV14E  A3PWPNZVMNX3PA             rareoopdvds   \n",
       "70260    70261  B007I7Z3Z0  A1XNZ7PCE45KK7                  Og8ys1   \n",
       "\n",
       "        HelpfulnessNumerator  HelpfulnessDenominator  Score        Time  \\\n",
       "165256                     0                       0      5  1268179200   \n",
       "231465                     0                       0      5  1298937600   \n",
       "427827                     0                       2      3  1224028800   \n",
       "433954                     0                       1      2  1335312000   \n",
       "70260                      0                       2      5  1334707200   \n",
       "\n",
       "                                             Summary  \\\n",
       "165256  Crunchy & Good Gluten-Free Sandwich Cookies!   \n",
       "231465                            great kitty treats   \n",
       "427827                                  COFFEE TASTE   \n",
       "433954              So the Mini-Wheats were too big?   \n",
       "70260                              Great Taste . . .   \n",
       "\n",
       "                                                     Text  \n",
       "165256  Having tried a couple of other brands of glute...  \n",
       "231465  My cat loves these treats. If ever I can't fin...  \n",
       "427827  A little less than I expected.  It tends to ha...  \n",
       "433954  First there was Frosted Mini-Wheats, in origin...  \n",
       "70260   and I want to congratulate the graphic artist ...  "
      ]
     },
     "execution_count": 8,
     "metadata": {},
     "output_type": "execute_result"
    }
   ],
   "source": [
    "artigo_teste.head()"
   ]
  },
  {
   "cell_type": "code",
   "execution_count": 12,
   "metadata": {},
   "outputs": [
    {
     "name": "stdout",
     "output_type": "stream",
     "text": [
      "{'este': 1, 'produto': 3, 'muito': 2, 'bom': 0, 'ruim': 4}\n"
     ]
    }
   ],
   "source": [
    "from sklearn.feature_extraction.text import CountVectorizer\n",
    "\n",
    "texto = [\n",
    "    \"Este produto é muito bom\",\n",
    "    \"Este produto é muito ruim\"\n",
    "]\n",
    "\n",
    "vetorizador = CountVectorizer()\n",
    "vetorizador.fit(texto)\n",
    "print(vetorizador.vocabulary_)"
   ]
  },
  {
   "cell_type": "code",
   "execution_count": 13,
   "metadata": {},
   "outputs": [
    {
     "name": "stdout",
     "output_type": "stream",
     "text": [
      "[[1 0 0 0 0]]\n"
     ]
    }
   ],
   "source": [
    "vetor_bom = vetorizador.transform([\"bom\"])\n",
    "print(vetor_bom.toarray())"
   ]
  },
  {
   "cell_type": "code",
   "execution_count": 18,
   "metadata": {},
   "outputs": [],
   "source": [
    "from gensim.models import KeyedVectors\n",
    "modelo = KeyedVectors.load_word2vec_format(\"../../../global-assets/datasets/cbow_s300.txt\")\n"
   ]
  },
  {
   "cell_type": "code",
   "execution_count": 19,
   "metadata": {},
   "outputs": [
    {
     "data": {
      "text/plain": [
       "[('foguetões', 0.5806891918182373),\n",
       " ('aviões', 0.5474070906639099),\n",
       " ('caças', 0.5254919528961182),\n",
       " ('icbms', 0.521876871585846),\n",
       " ('satélites', 0.5179443359375),\n",
       " ('projéteis', 0.5173476934432983),\n",
       " ('motores', 0.516154944896698),\n",
       " ('vaivéns', 0.5121830701828003),\n",
       " ('mísseis', 0.5111415386199951),\n",
       " ('obuses', 0.5107772946357727)]"
      ]
     },
     "execution_count": 19,
     "metadata": {},
     "output_type": "execute_result"
    }
   ],
   "source": [
    "modelo.most_similar(positive=[\"carros\", \"foguetes\"], negative=[\"carro\"])"
   ]
  },
  {
   "cell_type": "code",
   "execution_count": 20,
   "metadata": {},
   "outputs": [
    {
     "name": "stderr",
     "output_type": "stream",
     "text": [
      "[nltk_data] Downloading package punkt to\n",
      "[nltk_data]     C:\\Users\\kake\\AppData\\Roaming\\nltk_data...\n",
      "[nltk_data]   Package punkt is already up-to-date!\n"
     ]
    }
   ],
   "source": [
    "import nltk\n",
    "import string\n",
    "nltk.download('punkt')\n",
    "\n",
    "def tokenizador(texto):\n",
    "  texto = texto.lower()\n",
    "  lista_alfanumerico = []\n",
    "\n",
    "  for token_valido in nltk.word_tokenize(texto):\n",
    "    if token_valido in string.punctuation: continue\n",
    "    lista_alfanumerico.append(token_valido)\n",
    "  \n",
    "  return lista_alfanumerico"
   ]
  },
  {
   "cell_type": "code",
   "execution_count": 21,
   "metadata": {},
   "outputs": [
    {
     "data": {
      "text/plain": [
       "['texto', 'com', 'pontuação']"
      ]
     },
     "execution_count": 21,
     "metadata": {},
     "output_type": "execute_result"
    }
   ],
   "source": [
    "tokenizador(\"Texto com pontuação\")"
   ]
  },
  {
   "cell_type": "code",
   "execution_count": 22,
   "metadata": {},
   "outputs": [],
   "source": [
    "import numpy as np\n",
    "\n",
    "def combinacao_de_vetores_por_soma(palavras_numeros):\n",
    "  vetor_resultante = np.zeros(300)\n",
    "  for pn in palavras_numeros:\n",
    "    try:\n",
    "      vetor_resultante =+ modelo.get_vector(pn)\n",
    "    except KeyError:\n",
    "      if pn.isnumeric():\n",
    "        pn = \"0\"*len(pn)\n",
    "        vetor_resultante =+ modelo.get_vector(pn)\n",
    "      else:\n",
    "        vetor_resultante =+ modelo.get_vector('unknown')\n",
    "  return vetor_resultante"
   ]
  },
  {
   "cell_type": "code",
   "execution_count": 23,
   "metadata": {},
   "outputs": [],
   "source": [
    "def matriz_vetores(textos):\n",
    "  x = len(textos)\n",
    "  y = 300\n",
    "  matriz = np.zeros((x,y))\n",
    "\n",
    "  for i in range(x):\n",
    "    palavras_numeros = tokenizador(textos.iloc[i])\n",
    "    matriz[i] = combinacao_de_vetores_por_soma(palavras_numeros)\n",
    "\n",
    "  return matriz"
   ]
  },
  {
   "cell_type": "code",
   "execution_count": 26,
   "metadata": {},
   "outputs": [
    {
     "ename": "AttributeError",
     "evalue": "'DataFrame' object has no attribute 'title'",
     "output_type": "error",
     "traceback": [
      "\u001b[1;31m---------------------------------------------------------------------------\u001b[0m",
      "\u001b[1;31mAttributeError\u001b[0m                            Traceback (most recent call last)",
      "\u001b[1;32m~\\AppData\\Local\\Temp\\ipykernel_6536\\792880851.py\u001b[0m in \u001b[0;36m?\u001b[1;34m()\u001b[0m\n\u001b[1;32m----> 1\u001b[1;33m \u001b[0mmatriz_vetores_treino\u001b[0m \u001b[1;33m=\u001b[0m \u001b[0mmatriz_vetores\u001b[0m\u001b[1;33m(\u001b[0m\u001b[0martigo_treino\u001b[0m\u001b[1;33m.\u001b[0m\u001b[0mtitle\u001b[0m\u001b[1;33m)\u001b[0m\u001b[1;33m\u001b[0m\u001b[1;33m\u001b[0m\u001b[0m\n\u001b[0m\u001b[0;32m      2\u001b[0m \u001b[0mmatriz_vetores_teste\u001b[0m \u001b[1;33m=\u001b[0m \u001b[0mmatriz_vetores\u001b[0m\u001b[1;33m(\u001b[0m\u001b[0martigo_teste\u001b[0m\u001b[1;33m.\u001b[0m\u001b[0mtitle\u001b[0m\u001b[1;33m)\u001b[0m\u001b[1;33m\u001b[0m\u001b[1;33m\u001b[0m\u001b[0m\n",
      "\u001b[1;32mc:\\Users\\kake\\AppData\\Local\\Programs\\Python\\Python311\\Lib\\site-packages\\pandas\\core\\generic.py\u001b[0m in \u001b[0;36m?\u001b[1;34m(self, name)\u001b[0m\n\u001b[0;32m   6289\u001b[0m             \u001b[1;32mand\u001b[0m \u001b[0mname\u001b[0m \u001b[1;32mnot\u001b[0m \u001b[1;32min\u001b[0m \u001b[0mself\u001b[0m\u001b[1;33m.\u001b[0m\u001b[0m_accessors\u001b[0m\u001b[1;33m\u001b[0m\u001b[1;33m\u001b[0m\u001b[0m\n\u001b[0;32m   6290\u001b[0m             \u001b[1;32mand\u001b[0m \u001b[0mself\u001b[0m\u001b[1;33m.\u001b[0m\u001b[0m_info_axis\u001b[0m\u001b[1;33m.\u001b[0m\u001b[0m_can_hold_identifiers_and_holds_name\u001b[0m\u001b[1;33m(\u001b[0m\u001b[0mname\u001b[0m\u001b[1;33m)\u001b[0m\u001b[1;33m\u001b[0m\u001b[1;33m\u001b[0m\u001b[0m\n\u001b[0;32m   6291\u001b[0m         ):\n\u001b[0;32m   6292\u001b[0m             \u001b[1;32mreturn\u001b[0m \u001b[0mself\u001b[0m\u001b[1;33m[\u001b[0m\u001b[0mname\u001b[0m\u001b[1;33m]\u001b[0m\u001b[1;33m\u001b[0m\u001b[1;33m\u001b[0m\u001b[0m\n\u001b[1;32m-> 6293\u001b[1;33m         \u001b[1;32mreturn\u001b[0m \u001b[0mobject\u001b[0m\u001b[1;33m.\u001b[0m\u001b[0m__getattribute__\u001b[0m\u001b[1;33m(\u001b[0m\u001b[0mself\u001b[0m\u001b[1;33m,\u001b[0m \u001b[0mname\u001b[0m\u001b[1;33m)\u001b[0m\u001b[1;33m\u001b[0m\u001b[1;33m\u001b[0m\u001b[0m\n\u001b[0m",
      "\u001b[1;31mAttributeError\u001b[0m: 'DataFrame' object has no attribute 'title'"
     ]
    }
   ],
   "source": [
    "matriz_vetores_treino = matriz_vetores(artigo_treino.title)\n",
    "matriz_vetores_teste = matriz_vetores(artigo_teste.title)"
   ]
  },
  {
   "cell_type": "code",
   "execution_count": null,
   "metadata": {},
   "outputs": [],
   "source": [
    "from sklearn.linear_model import LogisticRegression\n",
    "from sklearn.metrics import classification_report\n",
    "\n",
    "LR = LogisticRegression(max_iter = 200)\n",
    "LR.fit(matriz_vetores_treino, artigo_treino.category)\n",
    "label_prevista = LR.predict(matriz_vetores_teste)\n",
    "CR = classification_report(artigo_teste.category, label_prevista)\n",
    "print(CR)"
   ]
  },
  {
   "cell_type": "code",
   "execution_count": null,
   "metadata": {},
   "outputs": [],
   "source": [
    "from sklearn.dummy import DummyClassifier\n",
    "\n",
    "DC = DummyClassifier()\n",
    "DC.fit(matriz_vetores_treino, artigo_treino.category)\n",
    "label_previsao_dc = DC.predict(matriz_vetores_teste)\n",
    "CR_dummy = classification_report(artigo_teste.category, label_previsao_dc)\n",
    "print(CR_dummy)"
   ]
  },
  {
   "cell_type": "code",
   "execution_count": null,
   "metadata": {},
   "outputs": [],
   "source": [
    "modelo_skipgram = KeyedVectors.load_word2vec_format(\"skip_s300.txt\")"
   ]
  },
  {
   "cell_type": "code",
   "execution_count": null,
   "metadata": {},
   "outputs": [],
   "source": [
    "def combinacao_de_vetores_por_soma_skipgram(palavras_numeros):\n",
    "  vetor_resultante = np.zeros(300)\n",
    "  for pn in palavras_numeros:\n",
    "    try:\n",
    "      vetor_resultante =+ modelo_skipgram.get_vector(pn)\n",
    "    except KeyError:\n",
    "      if pn.isnumeric():\n",
    "        pn = \"0\"*len(pn)\n",
    "        vetor_resultante =+ modelo_skipgram.get_vector(pn)\n",
    "      else:\n",
    "        vetor_resultante =+ modelo_skipgram.get_vector('unknown')\n",
    "  return vetor_resultante"
   ]
  },
  {
   "cell_type": "code",
   "execution_count": null,
   "metadata": {},
   "outputs": [],
   "source": [
    "def matriz_vetores_skipgram(textos):\n",
    "  x = len(textos)\n",
    "  y = 300\n",
    "  matriz = np.zeros((x,y))\n",
    "\n",
    "  for i in range(x):\n",
    "    palavras_numeros = tokenizador(textos.iloc[i])\n",
    "    matriz[i] = combinacao_de_vetores_por_soma_skipgram(palavras_numeros)"
   ]
  },
  {
   "cell_type": "code",
   "execution_count": null,
   "metadata": {},
   "outputs": [],
   "source": [
    "matriz_vetores_treino_skipgram = matriz_vetores_skipgram(artigo_treino.title)\n",
    "matriz_vetores_teste_skipgram = matriz_vetores_skipgram(artigo_teste.title)"
   ]
  },
  {
   "cell_type": "code",
   "execution_count": null,
   "metadata": {},
   "outputs": [],
   "source": [
    "LR_skipgram = LogisticRegression(max_iter = 200)\n",
    "LR_skipgram.fit(matriz_vetores_treino_skipgram, artigo_treino.category)\n",
    "label_previsao_skipgram = LR_skipgram.predict(matriz_vetores_teste_skipgram)\n",
    "CR_skipgram = classification_report(artigo_teste.category, label_previsao_skipgram)\n",
    "print(CR_skipgram)"
   ]
  }
 ],
 "metadata": {
  "kernelspec": {
   "display_name": "Python 3",
   "language": "python",
   "name": "python3"
  },
  "language_info": {
   "codemirror_mode": {
    "name": "ipython",
    "version": 3
   },
   "file_extension": ".py",
   "mimetype": "text/x-python",
   "name": "python",
   "nbconvert_exporter": "python",
   "pygments_lexer": "ipython3",
   "version": "3.11.1"
  }
 },
 "nbformat": 4,
 "nbformat_minor": 2
}
