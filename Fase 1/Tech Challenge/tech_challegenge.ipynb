{
 "cells": [
  {
   "cell_type": "markdown",
   "metadata": {},
   "source": [
    "# Tech Challenge Fase 1\n",
    "\n",
    "# Aluno\n",
    "Klauber Lage - RM358972\n",
    "\n",
    "# Tarefas\n",
    "## 1 - Exploração de dados:\n",
    "\n",
    "- (A) Carregue a base de dados e explore suas características.\n",
    "- (B) Analise estatísticas descritivas e visualize distribuições relevantes.\n",
    "\n",
    "## 2 - Pré-processamento de dados:\n",
    "- (A) Realize   a   limpeza   dos   dados,   tratando   valores   ausentes (se necessário).\n",
    "- (B) Converta   variáveis   categóricas   em   formatos   adequados   para modelagem.\n",
    "- (C) Divida o conjunto de dados em conjuntos de treinamento e teste [1].\n",
    "- (D) Crie  um modelo  preditivo  de  regressão utilizando uma técnica à  sua escolha (por exemplo, Regressão Linear, Árvores de Decisão etc) [1].\n",
    "   - (1) Regressão Linear [2]\n",
    "   - (2) Árvores de Decisão [2]\n",
    "\n",
    "[1] Os itens C e D foram trocados de ordem para que o fluxo siga da meneira correta no código.\n",
    "[2] Serão criados os dois modelos.\n",
    "\n",
    "## 3 - Treinamento e avaliação do modelo:\n",
    "- (A) Treine o modelo com o conjunto de treinamento.\n",
    "\n",
    "## 4 - Validação estatística:\n",
    "- (A) Utilize métricas estatísticas para validar a eficácia do modelo (p-value, intervalos de confiança).\n",
    "\n",
    "## O que avaliaremos:\n",
    "Apresente  resultados  visuais,  como  gráficos  de  previsões  vs.  valores reais.\n",
    "\n",
    "Elabore  um  relatório  que  inclua  uma  análise  dos  resultados,  insights obtidos e validação estatística.\n",
    "\n",
    "## Observações:\n",
    "Esperamos que  o  modelo  seja  capaz  de  fazer  previsões  confiáveis  dos custos médicos individuais com base nas características fornecidas.\n",
    "\n",
    "### Referência:\n",
    "[Documento PDF do Desafio](POSTECH-TechChallenge-IADT-Fase1.pdf)\n",
    "\n",
    "---\n",
    "\n"
   ]
  },
  {
   "cell_type": "markdown",
   "metadata": {},
   "source": [
    "# Relatório "
   ]
  },
  {
   "cell_type": "markdown",
   "metadata": {},
   "source": [
    "# 0 - Instalação de dependências"
   ]
  },
  {
   "cell_type": "code",
   "execution_count": null,
   "metadata": {},
   "outputs": [],
   "source": [
    "! pip install pandas pyarrow matplotlib seaborn statsmodels"
   ]
  },
  {
   "cell_type": "code",
   "execution_count": null,
   "metadata": {},
   "outputs": [],
   "source": [
    "# Importando o pandas \n",
    "import pandas as pd\n",
    "\n",
    "# Importando o matplot\n",
    "import matplotlib.pyplot as plt\n",
    "\n",
    "# Importando o Seaborn\n",
    "import seaborn as sb\n",
    "\n",
    "# Importando o statsmodel para o OLS\n",
    "import statsmodels.api as sm"
   ]
  },
  {
   "cell_type": "markdown",
   "metadata": {},
   "source": [
    "# 1 - Exploração de dados:\n",
    "\n",
    "## (A) Carregue a base de dados e explore suas características"
   ]
  },
  {
   "cell_type": "code",
   "execution_count": null,
   "metadata": {},
   "outputs": [],
   "source": [
    "# Usando o pandas para ler o conteúdo do arquivo CSV\n",
    "dados = pd.read_csv('data/dados.csv')\n",
    "\n",
    "# Mostrando os 10 primeiros itens da lista\n",
    "dados.head(10)"
   ]
  },
  {
   "cell_type": "markdown",
   "metadata": {},
   "source": [
    "Descrevendo os dados"
   ]
  },
  {
   "cell_type": "code",
   "execution_count": null,
   "metadata": {},
   "outputs": [],
   "source": [
    "# Cada tópico significa:\n",
    "'''\n",
    "count: observações no grupo\n",
    "mean: média das observações\n",
    "std: desvio padrão\n",
    "min: o valor mínimo\n",
    "25%: 25% das observações estão abaixo do valor informado\n",
    "50%: mediana\n",
    "75%: 75% das observações estão abaixo do valor informado\n",
    "max: o valor máximo é o informado\n",
    "'''\n",
    "# Descrevendo os dados\n",
    "dados.describe()\n",
    "\n",
    "# Também poderia descrever os dados de uma coluna em específico\n",
    "#dados.groupby('gênero').describe()"
   ]
  },
  {
   "cell_type": "markdown",
   "metadata": {},
   "source": [
    "Retornando informações do dataframe, como número de colunas, rótulos das colunas, tipos etc"
   ]
  },
  {
   "cell_type": "code",
   "execution_count": null,
   "metadata": {},
   "outputs": [],
   "source": [
    "dados.info()"
   ]
  },
  {
   "cell_type": "markdown",
   "metadata": {},
   "source": [
    "Retornando informações do dataframe na sequência de linhas e colunas"
   ]
  },
  {
   "cell_type": "code",
   "execution_count": null,
   "metadata": {},
   "outputs": [],
   "source": [
    "# Retornando os dados do DataFrame na sequência (A, X), que significa:\n",
    "''' \n",
    "A linhas: Há X registros ou observações no conjunto de dados.\n",
    "X colunas: Cada registro ou observação tem X atributos ou características.\n",
    "'''\n",
    "dados.shape"
   ]
  },
  {
   "cell_type": "markdown",
   "metadata": {},
   "source": [
    "Vemos que esse dataset possui 1338 linhas e 7 colunas. O que não é tanto para gerar um modelo bem treinado."
   ]
  },
  {
   "cell_type": "markdown",
   "metadata": {},
   "source": [
    "## (B) Analise estatísticas descritivas e visualize distribuições relevantes."
   ]
  },
  {
   "cell_type": "markdown",
   "metadata": {},
   "source": [
    "Usarei um gráfico para visualização geral das principais variáveis do dataset. Variáveis com dois valores (sim e não, masculino e feminino) e as regiões (sudeste, noroeste) não serão mostradas porque não são números."
   ]
  },
  {
   "cell_type": "code",
   "execution_count": null,
   "metadata": {},
   "outputs": [],
   "source": [
    "# Criando um histograma das variáveis\n",
    "dados.hist(bins=50, figsize=(15,10))"
   ]
  },
  {
   "cell_type": "markdown",
   "metadata": {},
   "source": [
    "Neste gráfico podemos entender sobre os nossos dados:\n",
    "\n",
    "- Há uma concentração maior de pessoas com idade inferior a 20 anos.\n",
    "- O IMC geral está concentrado entre os 25 e 35, sendo 30 o topo. Algo a ser melhor investigado.\n",
    "- Existe um declínio no número de filhos, sendo o mais comum não terem filhos e o número máximo sendo 5.\n",
    "- Os encargos gerais ficam entre o 2 (ou algo parecido) até 15 mil, sendo 65 mil o maior encargo.\n",
    "\n",
    "Esses dados geram perguntas intrigantes sobre o que aumentam os encargos, então farei uma avaliação destes pontos a seguir."
   ]
  },
  {
   "cell_type": "markdown",
   "metadata": {},
   "source": [
    "Começarei verificando a distribuição dos encargos pelas faixas de idade:"
   ]
  },
  {
   "cell_type": "code",
   "execution_count": null,
   "metadata": {},
   "outputs": [],
   "source": [
    "# Cria um gráfico tipo scatter (gráfico de dispersão) muito usado para visualizar relação entre duas variáveis númericas.\n",
    "plt.scatter(dados['idade'], dados['encargos'])\n",
    "# Adiciona o título ao gráfico\n",
    "plt.title(\"Distribuição de encargos por idade\")\n",
    "# Adiciona 'label' horizontal\n",
    "plt.xlabel(\"Idade\")\n",
    "# Adiciona 'label' vertical\n",
    "plt.ylabel(\"Encargos\")\n",
    "# Mostra o gráfico\n",
    "plt.show()"
   ]
  },
  {
   "cell_type": "markdown",
   "metadata": {},
   "source": [
    "Mesmo embora haja uma concentração na idade em até 20 anos, os encargos sobem de acordo com a idade, o que significa que há uma correlação entre encargo e idade. Portanto a concentração da idade inferior há 20 anos para esse quesito é irrelevante. \n",
    "\n",
    "Continuarei explorando as outras variáveis e deixei para ver o peso dessa correlação logo mais."
   ]
  },
  {
   "cell_type": "markdown",
   "metadata": {},
   "source": [
    "Agora verificarei a distribuição de encargos entre fumantes e não fumantes:"
   ]
  },
  {
   "cell_type": "code",
   "execution_count": null,
   "metadata": {},
   "outputs": [],
   "source": [
    "# Variáveis para separar os fumantes dos não fumantes. Ainda estão em sim e não porque não converti as variáveis categóricas.\n",
    "fumantes = dados[dados['fumante'] == 'sim']\n",
    "nao_fumantes = dados[dados['fumante'] == 'não']\n",
    "\n",
    "# Histograma de fumandos e encargos\n",
    "plt.hist(fumantes['encargos'], alpha=0.5, label='Fumantes', color='red')\n",
    "plt.hist(nao_fumantes['encargos'], alpha=0.5, label='Não Fumantes', color='blue')\n",
    "\n",
    "plt.xlabel('Encargos')\n",
    "plt.ylabel('Frequência')\n",
    "plt.title('Distribuição de Encargos por Fumantes vs Não Fumantes')\n",
    "plt.legend(loc='upper right')"
   ]
  },
  {
   "cell_type": "markdown",
   "metadata": {},
   "source": [
    "O gráfico mostra que os fumantes gastam mais com planos de saúde. O que creio ser um dado até que esperado, e isto leva a novas dúdivas como se gênero e idade influenciam na pessoa ser fumante ou não, porém como nosso foco é prever os encargos, continuarei explorando as outras variáveis."
   ]
  },
  {
   "cell_type": "markdown",
   "metadata": {},
   "source": [
    "Agora verificarei a distribuição de gastos por gênero:"
   ]
  },
  {
   "cell_type": "code",
   "execution_count": null,
   "metadata": {},
   "outputs": [],
   "source": [
    "# Distribuição de gastos por gênero\n",
    "plt.figure(figsize=(12, 6))\n",
    "sb.boxplot(x='gênero', y='encargos', data=dados)\n",
    "plt.title('Distribuição de Gastos por Gênero')\n",
    "plt.xlabel('Gênero')\n",
    "plt.ylabel('Encargos')\n",
    "plt.xticks(ticks=[0, 1], labels=['Feminino', 'Masculino'])\n",
    "\n",
    "plt.show()"
   ]
  },
  {
   "cell_type": "markdown",
   "metadata": {},
   "source": [
    "O gráfico mostra que, fora os outliers, o gasto feminino está concentrado entre os 5 mil e 15 mil. Para os homens, o gasto fica entre 5 e 20 mil, o que não é uma diferença muito grande, então o gênero não tem grande impacto nos encargos."
   ]
  },
  {
   "cell_type": "markdown",
   "metadata": {},
   "source": [
    "Seguindo na exploração das distribuições, agora verificarei a distribuição de IMC e sua frequência no dataset:"
   ]
  },
  {
   "cell_type": "code",
   "execution_count": null,
   "metadata": {},
   "outputs": [],
   "source": [
    "# Criando um histograma da distribuição de massa \n",
    "plt.figure(figsize=(12, 6))\n",
    "sb.histplot(dados[\"imc\"], bins=70)  \n",
    "plt.title('Distribuição de IMC')\n",
    "plt.xlabel('IMC')\n",
    "plt.ylabel('Frequência')\n",
    "\n",
    "# Média do IMC em números\n",
    "media_imc = dados[\"imc\"].mean()\n",
    "print(f'Média do IMC: {media_imc}')"
   ]
  },
  {
   "attachments": {
    "tabela-imc.PNG": {
     "image/png": "[encoded data removed]"
    }
   },
   "cell_type": "markdown",
   "metadata": {},
   "source": [
    "Como podemos perceber, a maioria das pessoas do dataset possuem IMC maior ou igual a 30. Vou usar uma tabela de IMC para verificar a categoria em que a média das pessoas se encaixam e posteriormente comparar os encargos dessa média:\n",
    "\n",
    "![tabela-imc.PNG](attachment:tabela-imc.PNG)\n",
    "\n",
    "E de acordo com a tabela retirada do site da Rede D'or, significa que a maior parte das pessoas possui Obesidade grau 1. \n",
    "\n",
    "Agora verificarei a distribuição de encargos de acordo com as faixas de IMC:\n",
    "\n"
   ]
  },
  {
   "cell_type": "code",
   "execution_count": null,
   "metadata": {},
   "outputs": [],
   "source": [
    "# Criando o histplot de encargos e IMC\n",
    "plt.figure(figsize=(12, 6))\n",
    "sb.histplot(dados, x='imc', y='encargos', cmap='coolwarm', cbar=True)\n",
    "plt.title('Distribuição de Gastos por IMC')\n",
    "plt.xlabel('IMC')\n",
    "plt.ylabel('Encargos')\n",
    "\n",
    "plt.show()"
   ]
  },
  {
   "cell_type": "markdown",
   "metadata": {},
   "source": [
    "Mesmo tendo muito peso no dataset, afinal a média de IMC é 30, que como vimos é obesidade, o grau de obesidade parece não ter influência diretamente nos encargos. \n",
    "\n",
    "Farei um gráfico aprofundado comparando a frequência dos encargos pela média de IMC:"
   ]
  },
  {
   "cell_type": "code",
   "execution_count": null,
   "metadata": {},
   "outputs": [],
   "source": [
    "# Criando o histograma de comparação de frequência\n",
    "plt.hist(dados[dados['imc'] >= 30]['encargos'], alpha=0.5, label='IMC maior ou igual a 30', color='red')\n",
    "plt.hist(dados[dados['imc'] < 30]['encargos'], alpha=0.5, label='IMC menor 30', color='blue')\n",
    "\n",
    "plt.xlabel('Encargos')\n",
    "plt.ylabel('Frequência')\n",
    "plt.title('Frequência de Encargos por Categoria de IMC')\n",
    "plt.legend(loc='upper right')\n",
    "\n",
    "plt.show()"
   ]
  },
  {
   "cell_type": "markdown",
   "metadata": {},
   "source": [
    "Agora com o gráfico nos leva a crer que a correlação entre IMC e os encargos tenha algum peso, mesmo que não considerável. Continuarei explorando a última variável não categórica, que é a distribuição de gastos por números de filhos:"
   ]
  },
  {
   "cell_type": "code",
   "execution_count": null,
   "metadata": {},
   "outputs": [],
   "source": [
    "# Criando um boxplot para verificar a dsitribução de gastos por números de filhos\n",
    "plt.figure(figsize=(12, 6))\n",
    "sb.boxplot(x='filhos', y='encargos', data=dados)\n",
    "plt.title('Distribuição de Gastos por número de filhos')\n",
    "plt.xlabel('Filhos')\n",
    "plt.ylabel('Encargos')"
   ]
  },
  {
   "cell_type": "markdown",
   "metadata": {},
   "source": [
    "Não fica claro se o número de filhos aumenta os encargos (embora pudesse parecer lógico que quanto mais filhos, maiores os encargos)."
   ]
  },
  {
   "cell_type": "markdown",
   "metadata": {},
   "source": [
    "A princípio, de todas as variáveis, ser fumante é o que possui maior correlação com encargos. Demais variáveis podem ter alguma correlação, porém com menor peso. Continuarei explorando as correlações, mas agora depois de converter as variáveis categóricas. Para isto continuarei o processo."
   ]
  },
  {
   "cell_type": "markdown",
   "metadata": {},
   "source": [
    "---\n",
    "\n",
    "# 2 - Pré-processamento de dados:\n",
    "## (A) Realize   a   limpeza   dos   dados,   tratando   valores   ausentes (se necessário)."
   ]
  },
  {
   "cell_type": "markdown",
   "metadata": {},
   "source": [
    "Começarei verificando se há valores nulos:"
   ]
  },
  {
   "cell_type": "code",
   "execution_count": null,
   "metadata": {},
   "outputs": [],
   "source": [
    "# Exemplo de tratamento de valores ausentes\n",
    "#dados = dados.ffill()\n",
    "#dados.fillna(method='ffill') Foi depreciado\n",
    "\n",
    "# Verificando se há dados nulos\n",
    "dados.isnull().sum()"
   ]
  },
  {
   "cell_type": "markdown",
   "metadata": {},
   "source": [
    "Como não há valores nulos, podemos pular esta etapa."
   ]
  },
  {
   "cell_type": "markdown",
   "metadata": {},
   "source": [
    "## (B) Converta   variáveis   categóricas   em   formatos   adequados   para modelagem."
   ]
  },
  {
   "cell_type": "markdown",
   "metadata": {},
   "source": [
    "Converterei as variáveis categóricas para que seja possível treinar o modelo."
   ]
  },
  {
   "cell_type": "code",
   "execution_count": null,
   "metadata": {},
   "outputs": [],
   "source": [
    "# Pré-processamento\n",
    "from sklearn.calibration import LabelEncoder\n",
    "\n",
    "label_encoder = LabelEncoder()\n",
    "\n",
    "# Estou criando uma cópia porque quero usar os dados puros em outro momento\n",
    "dados_transformados = dados.copy()\n",
    "\n",
    "# Ajustando e transformando os rótulos\n",
    "dados_transformados['gênero'] = label_encoder.fit_transform(dados['gênero'])\n",
    "print(\"Classes de 'gênero':\", label_encoder.classes_)\n",
    "\n",
    "dados_transformados['fumante'] = label_encoder.fit_transform(dados['fumante'])\n",
    "print(\"Classes de 'fumante':\", label_encoder.classes_)\n",
    "\n",
    "dados_transformados['região'] = label_encoder.fit_transform(dados['região'])\n",
    "print(\"Classes de 'região':\", label_encoder.classes_)\n",
    "\n",
    "# Verificando os dados após a conversão\n",
    "dados_transformados.head(10)\n"
   ]
  },
  {
   "cell_type": "markdown",
   "metadata": {},
   "source": [
    "De acordo com o código acima, as variáveis gênero, fumante e região foram categorizadas da seguinte forma:\n",
    "\n",
    "- gênero: 'feminino' = 0, 'masculino' = 1\n",
    "- fumante: 'não' = 0, 'sim' = 1\n",
    "- região: 'nordeste' = 0, 'noroeste' = 1,  'sudeste' = 2, 'sudoeste' = 3"
   ]
  },
  {
   "cell_type": "markdown",
   "metadata": {},
   "source": [
    "Após converter as variáveis categóricas, é possível visualizarmos a correlação entre os dados, para tanto farei de duas formas. Sendo a primeira usando o método .corr() do pandas, e o segundo um gráfico de correlação do matplotlib."
   ]
  },
  {
   "cell_type": "code",
   "execution_count": null,
   "metadata": {},
   "outputs": [],
   "source": [
    "# Correlação entre os dados\n",
    "corr = dados_transformados.corr()\n",
    "corr"
   ]
  },
  {
   "cell_type": "code",
   "execution_count": null,
   "metadata": {},
   "outputs": [],
   "source": [
    "#Gráfico da correlação\n",
    "ax, ya = plt.subplots(figsize=(12, 7))\n",
    "\n",
    "sb.heatmap(corr, annot=True, linewidths=.5)"
   ]
  },
  {
   "cell_type": "markdown",
   "metadata": {},
   "source": [
    "A correlação nos mostra que o que trás mais impacto para os encargos é a pessoa ser fumante, que vai de encontro com o que exploramos anteriormente. Também, como havíamos identificado, o IMC tem pouca relevância, mesmo tendo tanto impacto no dataset, além do número de filhos pouco influenciar nos encargos. A idade apresenta uma correlação moderada, o que é um fator relevante, mesmo que pouco. \n",
    "\n",
    "As outras variáveis (região e gênero) que não validamos por serem categóricas naquele momento não apresentam peso nos encargos. \n",
    "\n",
    "Por fim, é interessante notarmos que, também conforme mencionado mas que não exploraríamos, existe uma correlação entre gênero e fumante e até imc e região/ idade."
   ]
  },
  {
   "cell_type": "markdown",
   "metadata": {},
   "source": [
    "Como já exploramos nosso dataset e entendemos os pesos das variáveis, é hora de treinar o modelo."
   ]
  },
  {
   "cell_type": "markdown",
   "metadata": {},
   "source": [
    "## (C) Divida o conjunto de dados em conjuntos de treinamento e teste."
   ]
  },
  {
   "cell_type": "markdown",
   "metadata": {},
   "source": [
    "Começarei usando o drop do pandas para remover a coluna de encargos do dataframe (dataset), já que é o que queremos prever. Estou usando o axis=1 para remover toda a coluna do dataframe. \n",
    "\n",
    "Logo em seguida farei o treinamento dos subconjuntos de treinamento e teste, sendo 80% para treino e 20% para teste."
   ]
  },
  {
   "cell_type": "code",
   "execution_count": null,
   "metadata": {},
   "outputs": [],
   "source": [
    "from sklearn.model_selection import train_test_split\n",
    "\n",
    "x = dados_transformados.drop(columns=['encargos'], axis=1)\n",
    "y = dados_transformados['encargos']\n",
    "\n",
    "# train_test_split: Essa função divide arrays ou matrizes em subconjuntos de treinamento e teste de forma aleatória.\n",
    "# x_train: Variáveis feature\n",
    "# x_test: Variáveis feature\n",
    "# y_train: Variável target\n",
    "# y_test: Variável target\n",
    "# x:\n",
    "# y test_size: Tamanho do teste\n",
    "# stratify: Direciona o equilibrio dos dados, equilibrando as amostras. \n",
    "# random_state: Distribui de forma aleatória os dados\n",
    "x_train, x_test, y_train, y_test = train_test_split(x, y, test_size=0.20, random_state=42)"
   ]
  },
  {
   "cell_type": "markdown",
   "metadata": {},
   "source": [
    "Vou explorar rapidamente o total das bases de treinamento e teste:"
   ]
  },
  {
   "cell_type": "code",
   "execution_count": null,
   "metadata": {},
   "outputs": [],
   "source": [
    "print(\"Conjunto de treinamento:\")\n",
    "print(x_train)\n",
    "print(y_train)\n"
   ]
  },
  {
   "cell_type": "code",
   "execution_count": null,
   "metadata": {},
   "outputs": [],
   "source": [
    "print(\"\\nConjunto de teste:\")\n",
    "print(x_test)\n",
    "print(y_test)\n",
    "\n",
    "print(\"\")\n",
    "print(\"Total das bases: \")\n",
    "print(\"Total base de treino: \", len(x_train))\n",
    "print(\"Total base de teste: \", len(y_test))"
   ]
  },
  {
   "cell_type": "markdown",
   "metadata": {},
   "source": [
    "## (D) Crie  um modelo  preditivo  de  regressão utilizando uma técnica à  sua escolha (por exemplo, Regressão Linear, Árvores de Decisão etc)"
   ]
  },
  {
   "cell_type": "markdown",
   "metadata": {},
   "source": [
    "Agora com os conjuntos de treinamento e teste criados, vamos criar o modelo. Utilizarei o modelo de regressão linear por ser o primeiro introduzido e por ter mais exemplos nas aulas:"
   ]
  },
  {
   "cell_type": "code",
   "execution_count": null,
   "metadata": {},
   "outputs": [],
   "source": [
    "from sklearn.linear_model import LinearRegression\n",
    "\n",
    "# Criando o modelo de Regressão Linear\n",
    "modelo = LinearRegression()"
   ]
  },
  {
   "cell_type": "markdown",
   "metadata": {},
   "source": [
    "---\n",
    "\n",
    "# 3 - Treinamento e avaliação do modelo:\n",
    "## (A) Treine o modelo com o conjunto de treinamento.\n",
    "\n"
   ]
  },
  {
   "cell_type": "markdown",
   "metadata": {},
   "source": [
    "Usando o método fit do sklearn para treinar o modelo, usando os dados de treinamento conforme visto acima."
   ]
  },
  {
   "cell_type": "code",
   "execution_count": null,
   "metadata": {},
   "outputs": [],
   "source": [
    "modelo.fit(x_train, y_train)"
   ]
  },
  {
   "cell_type": "markdown",
   "metadata": {},
   "source": [
    "---\n",
    "\n",
    "# 4 - Validação estatística:\n",
    "## (A) Utilize métricas estatísticas para validar a eficácia do modelo (p-value, intervalos de confiança)."
   ]
  },
  {
   "cell_type": "markdown",
   "metadata": {},
   "source": [
    "Com o modelo devidamente treinado, vamos explorar as métricas para verificarmos a qualidade do nosso treinamento."
   ]
  },
  {
   "cell_type": "code",
   "execution_count": null,
   "metadata": {},
   "outputs": [],
   "source": [
    "from sklearn.metrics import mean_absolute_error, mean_squared_error, r2_score\n",
    "\n",
    "# Fazendo previsões no conjunto de teste\n",
    "y_pred = modelo.predict(x_test)\n",
    "\n",
    "# Calculando métricas de avaliação\n",
    "mse = mean_squared_error(y_test, y_pred)\n",
    "mae = mean_absolute_error(y_test, y_pred)\n",
    "r2 = r2_score(y_test, y_pred)\n",
    "\n",
    "# MSE é a diferença média entre os valores previstos e os valores reais. MSE menor indica um modelo mais preciso.\n",
    "print(f'Mean Squared Error: {mse}')\n",
    "\n",
    "# MAE é a média do valor absoluto dos erros.\n",
    "print('MAE:', mae)\n",
    "\n",
    "# R² mede a proporção da variância nos dados dependentes que é previsível a partir das variáveis independentes. Um R² próximo de 1 indica um modelo que explica bem a variância dos dados.\n",
    "print(f'R^2 Score: {r2}')"
   ]
  },
  {
   "cell_type": "markdown",
   "metadata": {},
   "source": [
    "Vamos explorar os resultados individualmente:\n",
    "\n",
    "MSE: Mean Squared Error é a diferença média entre os valores previstos e os valores reais. Um valor de MSE menor indica um modelo mais preciso. Então se um valor menor indica que o modelo é mais preciso, o valor atual significa que há uma diferença considerável entre os valores previstos e os valores reais. \n",
    "\n",
    "MAE: Mean Absolute Error é a média do valor absoluto dos erros. Como ele mede a média entre o valor previsto e o valor real, quanto menor o valor melhor, porque o valor estará mais próximo do valor real. Sendo então que o modelo está errando em 4186 dólares nos encargos.\n",
    "\n",
    "R^2: Sendo uma das principais métricas, o coeficiente de determinação que explica o quão bem o modelo explica a variação dos dados. Sendo 1 o topo, onde o modelo explica toda a variação dos dados, o que é problemático porque é como se ele estivesse somente gravando os dados, e 0 onde o modelo não explica nenhuma variação. No caso, 0.78 não é o pior valor, porém indica que o modelo pode ser melhorado."
   ]
  },
  {
   "cell_type": "markdown",
   "metadata": {},
   "source": [
    "Vamos ver o gráfico de previsão de encargos vs o valor real dos encargos:"
   ]
  },
  {
   "cell_type": "code",
   "execution_count": null,
   "metadata": {},
   "outputs": [],
   "source": [
    "# Gráfico de Previsão de Encargos vs Valor Real\n",
    "plt.scatter(y_test, y_pred, label='Previsto', color='red',)\n",
    "plt.scatter(y_test, y_test, label='Real')\n",
    "plt.xlabel('Encargo Real')\n",
    "plt.ylabel('Encargo Previsto')\n",
    "plt.title('Previsão vs Valor Real')\n",
    "plt.legend()"
   ]
  },
  {
   "cell_type": "markdown",
   "metadata": {},
   "source": [
    " Podemos perceber que a previsão erra, provavelmente baseado no valor do MAE, mas mesmo com erro mantêm-se seguindo a reta linear, exceto pela casa dos 20 a 35 e acima 60 mil, onde há uma grande distância entre a previsão e o valor real, talvez ocasionado por algum outlier.\n",
    "\n",
    " Com esse resultado vemos que o modelo precisa ser melhorado, porém já mostra resultados significativos."
   ]
  },
  {
   "cell_type": "code",
   "execution_count": null,
   "metadata": {},
   "outputs": [],
   "source": [
    "print('Intercepto:', modelo.intercept_)"
   ]
  },
  {
   "cell_type": "markdown",
   "metadata": {},
   "source": [
    "Primeiramente, intercepto é valor de y (variável independente - features, todas as outras exceto encargos) quando x (variável dependente - target, que neste caso é encargos) é 0. \n",
    "\n",
    "O valor do intercepto tão negativo pode ser explicado pela falta de padronização dos dados. O que me vêm em mente é a grande diferença nas escalas das variáveis.\n",
    "\n",
    "Agora verificarei a relação de coeficientes entre as variáveis independentes (feature = filhos, idade, gênero, região, fumante) e a variável dependente (target = encargos)"
   ]
  },
  {
   "cell_type": "code",
   "execution_count": null,
   "metadata": {},
   "outputs": [],
   "source": [
    "# Criando tabela de coeficientes\n",
    "coeff_df = pd.DataFrame(modelo.coef_,x.columns,columns=['Coeficiente'])\n",
    "coeff_df"
   ]
  },
  {
   "cell_type": "markdown",
   "metadata": {},
   "source": [
    "Com a tabela percebemos que fumante é o que realmente mais trás impacto nos encargos, como já havíamos previsto. Depois de fumante temos filhos, imc e idade. Nessa lista o que mais chama a atenção é a quantidade de filhos, que inicialmente teve sua importância questionada. IMC e idade já haviamos previsto de alguma forma. Região não teve impacto, mas como não foram usadas variáveis dummy, não há como explicitamente definir se a região tem impacto positivo ou negativo. "
   ]
  },
  {
   "cell_type": "markdown",
   "metadata": {},
   "source": [
    "Agora avaliaremos o resultado do p-value."
   ]
  },
  {
   "cell_type": "code",
   "execution_count": null,
   "metadata": {},
   "outputs": [],
   "source": [
    "# Criando modelo para avaliação do p-value\n",
    "modelo_ols = sm.OLS(y_train, x_train).fit()\n",
    "\n",
    "y_p_pred = modelo_ols.predict(x_test)\n",
    "\n",
    "print(modelo_ols.summary())"
   ]
  },
  {
   "cell_type": "markdown",
   "metadata": {},
   "source": [
    "O p-value é uma probabilidade que indica se a diferença observada nos dados é real ou se poderia ter acontecido por acaso. Para isto, o p-value usa a hipótese nula, que é uma suposição inicial que diz que não há efeito ou relação entre as variáveis independentes x  e a variável dependente y.\n",
    "\n",
    "Quanto menor o p-value, menor é a probabilidade da diferença observada ter ocorrido por acaso, portanto podemos rejeitar a hipótese nula. Se o p-value for grande, isso significa que a diferença observada pode ter ocorrido por acaso, então provavelmente não poderemos rejeitar a hipótese nula.\n",
    "\n",
    "Assim sendo, os valores de P>|t| (p-value):\n",
    "- idade: 0.000, o valor está zerado, isso indica que a idade tem um efeito significativo nos encargos, portanto a hipótese (nula) de que a idade não tem efeito é rejeitada.\n",
    "\n",
    "- gênero: 0.084, o valor é médio (acima de 0.5), isso indica que o gênero não tem efeito significativo nos encargos, portanto **não há evidências suficientes** para rejeitar a hipótese nula.\n",
    "\n",
    "- imc: 0.003, o valor é quase zero absoluto, isso indica que o imc tem  efeito significativo nos encargos, portanto a hipótese nula é rejeitada.\n",
    "\n",
    "- filhos: 0.222, o valor é o maior da lista e está um pouco alto, isso indica que o número de filhos não tem um efeito significativo nos encargos, assim **não há evidências suficientes** para rejeitar a hipótese nula.\n",
    "\n",
    "- fumante: 0.000, o valor também está zerado, isso indica que ser fumante tem um efeito significativo nos encargos, portanto a hipótese nula é rejeitada.\n",
    "\n",
    "- região:  0.012, o valor não é zero absoluto mas é bem baixo, isso indica que a região tem um efeito significativo nos encargos. A hipótese nula é rejeitada.    \n",
    "\n",
    "Os valores de p-value levantam questões interessantes como a região possuir algum valor significativo, que não apareceu no coeficiente, o que faz questionar o treinamento do modelo e talvez a falta de padronização e uso de dummies no treinamento.\n"
   ]
  },
  {
   "cell_type": "markdown",
   "metadata": {},
   "source": [
    "Antes da conclusão testarei a padronização dos dados e a criação de variáveis dummy. Como estou apenas transformando as variáveis 'região' e 'gênero', talvez o valor real dessas variáveis esteja sendo ignorado. Por praticidade, colocarei o código em somente um bloco:"
   ]
  },
  {
   "cell_type": "code",
   "execution_count": null,
   "metadata": {},
   "outputs": [],
   "source": [
    "from sklearn.discriminant_analysis import StandardScaler\n",
    "\n",
    "dados_dummy = pd.get_dummies(dados, columns=['gênero', 'fumante', 'região'], drop_first=True)\n",
    "\n",
    "x_dummy = dados_dummy.drop(columns=['encargos'], axis=1)\n",
    "y_dummy = dados_dummy['encargos']\n",
    "\n",
    "x_dummy_train, x_dummy_test, y_dummy_train, y_dummy_test = train_test_split(x_dummy, y_dummy, test_size=0.20, random_state=42)\n",
    "\n",
    "scaler = StandardScaler()\n",
    "x_dummy_train_scaled = scaler.fit_transform(x_dummy_train)\n",
    "x_dummy_test_scaled = scaler.transform(x_dummy_test)\n",
    "\n",
    "modelo_dummy = LinearRegression()\n",
    "modelo_dummy.fit(x_dummy_train_scaled, y_dummy_train)\n",
    "\n",
    "y_dummy_pred = modelo_dummy.predict(x_dummy_test_scaled)\n",
    "\n",
    "mse_dummy = mean_squared_error(y_dummy_test, y_dummy_pred)\n",
    "mae_dummy = mean_absolute_error(y_dummy_test, y_dummy_pred)\n",
    "r2_dummy = r2_score(y_dummy_test, y_dummy_pred)\n",
    "\n",
    "print(f'Mean Squared Error: {mse_dummy}')\n",
    "print('MAE:', mae_dummy)\n",
    "print(f'R^2 Score: {r2_dummy}')"
   ]
  },
  {
   "cell_type": "markdown",
   "metadata": {},
   "source": [
    "Agora uma visualização da tabela de correlação entre os dados com as variáveis dummy:"
   ]
  },
  {
   "cell_type": "code",
   "execution_count": null,
   "metadata": {},
   "outputs": [],
   "source": [
    "# Correlação entre os dados\n",
    "corr_dummy = dados_dummy.corr()\n",
    "\n",
    "#Gráfico da correlação\n",
    "ax, ya = plt.subplots(figsize=(12, 7))\n",
    "\n",
    "sb.heatmap(corr_dummy, annot=True, linewidths=.5)"
   ]
  },
  {
   "cell_type": "markdown",
   "metadata": {},
   "source": [
    "Como podemos perceber, não houve grande melhoria no MSE, MAe e R^2, porém agora nos coeficientes e no p-value temos o gênero e as regiões separadas, o que nos permite ter uma visão mais abrangente "
   ]
  },
  {
   "cell_type": "code",
   "execution_count": null,
   "metadata": {},
   "outputs": [],
   "source": [
    "print('Intercepto:', modelo_dummy.intercept_)"
   ]
  },
  {
   "cell_type": "markdown",
   "metadata": {},
   "source": [
    "Como dito anteriormente, o valor do intercepto agora é positivo, provavelmente porque as grandezas foram ajustadas, já que o StandardScaler normaliza a escala das variáveis."
   ]
  },
  {
   "cell_type": "code",
   "execution_count": null,
   "metadata": {},
   "outputs": [],
   "source": [
    "# Gráfico de Previsão de Encargos vs Valor Real\n",
    "plt.scatter(y_dummy_test, y_dummy_pred, label='Previsto', color='red',)\n",
    "plt.scatter(y_dummy_test, y_dummy_test, label='Real')\n",
    "plt.xlabel('Encargo Real')\n",
    "plt.ylabel('Encargo Previsto')\n",
    "plt.title('Previsão vs Valor Real')\n",
    "plt.legend()"
   ]
  },
  {
   "cell_type": "markdown",
   "metadata": {},
   "source": [
    "O gráfico de previsão vs valor real se manteve igual, o que me deixa pensativo na causa."
   ]
  },
  {
   "cell_type": "code",
   "execution_count": null,
   "metadata": {},
   "outputs": [],
   "source": [
    "# Adicionei .astype(float) para resolver um erro de dtype, conforme pergunta do Stack Overflow: https://stackoverflow.com/questions/33833832/building-multi-regression-model-throws-error-pandas-data-cast-to-numpy-dtype-o\n",
    "modelo_ols_dummy = sm.OLS(y_dummy_train, x_dummy_train.astype(float)).fit()\n",
    "\n",
    "y_dummy_p_pred = modelo_ols_dummy.predict(x_dummy_train)\n",
    "\n",
    "print(modelo_ols_dummy.summary())"
   ]
  },
  {
   "cell_type": "markdown",
   "metadata": {},
   "source": [
    "----\n"
   ]
  },
  {
   "cell_type": "markdown",
   "metadata": {},
   "source": [
    "# Conclusão\n",
    "\n",
    "Neste tech-challenge realizei uma análise detalhada de um conjunto de dados de encargos médicos retirado do site Kaggle, passando por etapas de exploração, pré-processamento, modelagem e avaliação de modelos preditivos. \n",
    "\n",
    "Usei o modelo de regressão linear para prever os encargos médicos. Após todo a fase de exploração, pré-processamento dos dados, a modelagem do modelo e das validações estástisticas, a conslusão que os resultados indicam é que o hábito de fumar é o fator mais influente nos encargos médicos, seguido pela idade e IMC.\n",
    "\n",
    "Separei o teste em uma versão sem padronização e utilização de variáveis dummy, e outro passando por estes processos, mas não houve grande evolução fora o intercepto, que naturalmente iria ser ajustado devido às novas dimensões, e a possibilidade de entendimento do gênero e regiões nos encargos individualmente.\n",
    "\n",
    "Embora os modelos apresentem um desempenho razoável, há espaço para novos testes, como a exploração de outras técnicas de modelagem, como Árvore de Decisão (Decision Tree) ou Floresta Aleatória (Random Forest) para aumentar a precisão das previsões.\n",
    "\n",
    "Por fim, tentei explorar as técnicas aprendidas para melhorar a robustez dos resultados. Acredito que tratar os outliers e ter um dataset maior ajude a ter melhor compressão das relações e até eventualmente melhorar a qualidade final do modelo.\n"
   ]
  }
 ],
 "metadata": {
  "kernelspec": {
   "display_name": "Python 3",
   "language": "python",
   "name": "python3"
  },
  "language_info": {
   "codemirror_mode": {
    "name": "ipython",
    "version": 3
   },
   "file_extension": ".py",
   "mimetype": "text/x-python",
   "name": "python",
   "nbconvert_exporter": "python",
   "pygments_lexer": "ipython3",
   "version": "3.11.1"
  }
 },
 "nbformat": 4,
 "nbformat_minor": 2
}
