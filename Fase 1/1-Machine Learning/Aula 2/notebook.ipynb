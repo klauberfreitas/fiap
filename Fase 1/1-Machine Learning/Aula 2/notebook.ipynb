{
  "cells": [
    {
      "cell_type": "code",
      "execution_count": 1,
      "metadata": {},
      "outputs": [],
      "source": [
        "# pip install pandas statsmodels\n",
        "import statsmodels.api as sm\n",
        "import pandas as pd\n",
        "from sklearn.model_selection import train_test_split\n",
        "import matplotlib.pyplot as plt\n",
        "from sklearn.model_selection import train_test_split\n",
        "from sklearn.linear_model import LinearRegression\n",
        "from sklearn.metrics import mean_squared_error, mean_absolute_error, r2_score"
      ]
    },
    {
      "cell_type": "code",
      "execution_count": 2,
      "metadata": {},
      "outputs": [],
      "source": [
        "# Criar um DataFrame com dados fictícios\n",
        "data = {'Vendas_Sorvetes': [200, 300, 400, 350, 500],'Temperatura': [28, 30, 32, 29, 33],'Promocao_Marketing': [1000, 1200, 800, 900, 1100]}\n",
        "dados = pd.DataFrame(data)"
      ]
    },
    {
      "cell_type": "code",
      "execution_count": 3,
      "metadata": {},
      "outputs": [
        {
          "data": {
            "text/html": [
              "<div>\n",
              "<style scoped>\n",
              "    .dataframe tbody tr th:only-of-type {\n",
              "        vertical-align: middle;\n",
              "    }\n",
              "\n",
              "    .dataframe tbody tr th {\n",
              "        vertical-align: top;\n",
              "    }\n",
              "\n",
              "    .dataframe thead th {\n",
              "        text-align: right;\n",
              "    }\n",
              "</style>\n",
              "<table border=\"1\" class=\"dataframe\">\n",
              "  <thead>\n",
              "    <tr style=\"text-align: right;\">\n",
              "      <th></th>\n",
              "      <th>Vendas_Sorvetes</th>\n",
              "      <th>Temperatura</th>\n",
              "      <th>Promocao_Marketing</th>\n",
              "    </tr>\n",
              "  </thead>\n",
              "  <tbody>\n",
              "    <tr>\n",
              "      <th>0</th>\n",
              "      <td>200</td>\n",
              "      <td>28</td>\n",
              "      <td>1000</td>\n",
              "    </tr>\n",
              "    <tr>\n",
              "      <th>1</th>\n",
              "      <td>300</td>\n",
              "      <td>30</td>\n",
              "      <td>1200</td>\n",
              "    </tr>\n",
              "    <tr>\n",
              "      <th>2</th>\n",
              "      <td>400</td>\n",
              "      <td>32</td>\n",
              "      <td>800</td>\n",
              "    </tr>\n",
              "    <tr>\n",
              "      <th>3</th>\n",
              "      <td>350</td>\n",
              "      <td>29</td>\n",
              "      <td>900</td>\n",
              "    </tr>\n",
              "    <tr>\n",
              "      <th>4</th>\n",
              "      <td>500</td>\n",
              "      <td>33</td>\n",
              "      <td>1100</td>\n",
              "    </tr>\n",
              "  </tbody>\n",
              "</table>\n",
              "</div>"
            ],
            "text/plain": [
              "   Vendas_Sorvetes  Temperatura  Promocao_Marketing\n",
              "0              200           28                1000\n",
              "1              300           30                1200\n",
              "2              400           32                 800\n",
              "3              350           29                 900\n",
              "4              500           33                1100"
            ]
          },
          "execution_count": 3,
          "metadata": {},
          "output_type": "execute_result"
        }
      ],
      "source": [
        "dados.head()"
      ]
    },
    {
      "cell_type": "code",
      "execution_count": 4,
      "metadata": {},
      "outputs": [
        {
          "data": {
            "text/plain": [
              "Text(0.5, 1.0, 'Relação entre Temperatura e Vendas de Sorvetes')"
            ]
          },
          "execution_count": 4,
          "metadata": {},
          "output_type": "execute_result"
        },
        {
          "data": {
            "image/png": "[encoded data removed]",
            "text/plain": [
              "<Figure size 640x480 with 1 Axes>"
            ]
          },
          "metadata": {},
          "output_type": "display_data"
        }
      ],
      "source": [
        "plt.scatter(dados['Temperatura'], dados['Vendas_Sorvetes'])\n",
        "plt.xlabel(\"Temperatura (C)\")\n",
        "plt.ylabel(\"Vendas_Sorvetes (milhares)\")\n",
        "plt.title(\"Relação entre Temperatura e Vendas de Sorvetes\")"
      ]
    },
    {
      "cell_type": "code",
      "execution_count": 5,
      "metadata": {},
      "outputs": [
        {
          "data": {
            "text/html": [
              "<div>\n",
              "<style scoped>\n",
              "    .dataframe tbody tr th:only-of-type {\n",
              "        vertical-align: middle;\n",
              "    }\n",
              "\n",
              "    .dataframe tbody tr th {\n",
              "        vertical-align: top;\n",
              "    }\n",
              "\n",
              "    .dataframe thead th {\n",
              "        text-align: right;\n",
              "    }\n",
              "</style>\n",
              "<table border=\"1\" class=\"dataframe\">\n",
              "  <thead>\n",
              "    <tr style=\"text-align: right;\">\n",
              "      <th></th>\n",
              "      <th>Vendas_Sorvetes</th>\n",
              "      <th>Temperatura</th>\n",
              "      <th>Promocao_Marketing</th>\n",
              "    </tr>\n",
              "  </thead>\n",
              "  <tbody>\n",
              "    <tr>\n",
              "      <th>Vendas_Sorvetes</th>\n",
              "      <td>1.000000</td>\n",
              "      <td>0.916579</td>\n",
              "      <td>-0.070711</td>\n",
              "    </tr>\n",
              "    <tr>\n",
              "      <th>Temperatura</th>\n",
              "      <td>0.916579</td>\n",
              "      <td>1.000000</td>\n",
              "      <td>0.000000</td>\n",
              "    </tr>\n",
              "    <tr>\n",
              "      <th>Promocao_Marketing</th>\n",
              "      <td>-0.070711</td>\n",
              "      <td>0.000000</td>\n",
              "      <td>1.000000</td>\n",
              "    </tr>\n",
              "  </tbody>\n",
              "</table>\n",
              "</div>"
            ],
            "text/plain": [
              "                    Vendas_Sorvetes  Temperatura  Promocao_Marketing\n",
              "Vendas_Sorvetes            1.000000     0.916579           -0.070711\n",
              "Temperatura                0.916579     1.000000            0.000000\n",
              "Promocao_Marketing        -0.070711     0.000000            1.000000"
            ]
          },
          "execution_count": 5,
          "metadata": {},
          "output_type": "execute_result"
        }
      ],
      "source": [
        "dados.corr()"
      ]
    },
    {
      "cell_type": "code",
      "execution_count": 6,
      "metadata": {},
      "outputs": [],
      "source": [
        "X = dados[['Temperatura']]\n",
        "y = dados['Vendas_Sorvetes']\n",
        "\n",
        "X_train, X_test, y_train, y_test = train_test_split(X, y, test_size=0.2, random_state=42)"
      ]
    },
    {
      "cell_type": "code",
      "execution_count": 10,
      "metadata": {},
      "outputs": [],
      "source": [
        "modelo = LinearRegression()\n",
        "modelo.fit(X_train, y_train)\n",
        "previsoes = modelo.predict(X_test)"
      ]
    },
    {
      "cell_type": "code",
      "execution_count": 8,
      "metadata": {},
      "outputs": [
        {
          "name": "stdout",
          "output_type": "stream",
          "text": [
            "                            OLS Regression Results                            \n",
            "==============================================================================\n",
            "Dep. Variable:        Vendas_Sorvetes   R-squared:                       0.845\n",
            "Model:                            OLS   Adj. R-squared:                  0.690\n",
            "Method:                 Least Squares   F-statistic:                     5.456\n",
            "Date:                Sat, 31 Aug 2024   Prob (F-statistic):              0.155\n",
            "Time:                        15:07:11   Log-Likelihood:                -25.458\n",
            "No. Observations:                   5   AIC:                             56.92\n",
            "Df Residuals:                       2   BIC:                             55.74\n",
            "Df Model:                           2                                         \n",
            "Covariance Type:            nonrobust                                         \n",
            "======================================================================================\n",
            "                         coef    std err          t      P>|t|      [0.025      0.975]\n",
            "--------------------------------------------------------------------------------------\n",
            "Intercepto         -1102.3256    497.538     -2.216      0.157   -3243.058    1038.407\n",
            "Temperatura           49.4186     15.004      3.294      0.081     -15.139     113.976\n",
            "Promocao_Marketing    -0.0500      0.197     -0.254      0.823      -0.897       0.797\n",
            "==============================================================================\n",
            "Omnibus:                          nan   Durbin-Watson:                   1.622\n",
            "Prob(Omnibus):                    nan   Jarque-Bera (JB):                0.632\n",
            "Skew:                           0.604   Prob(JB):                        0.729\n",
            "Kurtosis:                       1.745   Cond. No.                     1.81e+04\n",
            "==============================================================================\n",
            "\n",
            "Notes:\n",
            "[1] Standard Errors assume that the covariance matrix of the errors is correctly specified.\n",
            "[2] The condition number is large, 1.81e+04. This might indicate that there are\n",
            "strong multicollinearity or other numerical problems.\n"
          ]
        },
        {
          "name": "stderr",
          "output_type": "stream",
          "text": [
            "c:\\Users\\kake\\AppData\\Local\\Programs\\Python\\Python311\\Lib\\site-packages\\statsmodels\\stats\\stattools.py:74: ValueWarning: omni_normtest is not valid with less than 8 observations; 5 samples were given.\n",
            "  warn(\"omni_normtest is not valid with less than 8 observations; %i \"\n"
          ]
        }
      ],
      "source": [
        "# Adicionar uma constante para o termo de intercepto\n",
        "dados['Intercepto'] = 1\n",
        "\n",
        "# Definir as variáveis independentes (X)\n",
        "X = dados[['Intercepto', 'Temperatura', 'Promocao_Marketing']]\n",
        "\n",
        "# Definir a variável dependente (Y)\n",
        "Y = dados['Vendas_Sorvetes']\n",
        "\n",
        "# Criar e ajustar o modelo de regressão linear múltipla\n",
        "modelo = sm.OLS(Y, X).fit()\n",
        "\n",
        "# Imprimir os resultados do modelo\n",
        "print(modelo.summary())"
      ]
    }
  ],
  "metadata": {
    "colab": {
      "provenance": []
    },
    "kernelspec": {
      "display_name": "Python 3",
      "name": "python3"
    },
    "language_info": {
      "codemirror_mode": {
        "name": "ipython",
        "version": 3
      },
      "file_extension": ".py",
      "mimetype": "text/x-python",
      "name": "python",
      "nbconvert_exporter": "python",
      "pygments_lexer": "ipython3",
      "version": "3.11.1"
    }
  },
  "nbformat": 4,
  "nbformat_minor": 0
}
